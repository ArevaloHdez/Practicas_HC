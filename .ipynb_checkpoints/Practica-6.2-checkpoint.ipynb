{
 "cells": [
  {
   "cell_type": "markdown",
   "metadata": {},
   "source": [
    "# 1. Genere coordenadas igualmente espaciadas. "
   ]
  },
  {
   "cell_type": "markdown",
   "metadata": {},
   "source": [
    "* Queremos generar coordenadas $x$ entre $1$ y $2$ con espaciado $0.01$. La coordenada i-ésima, $x_i$, es entonces $1 + ih$ donde $h = 0.01$ e $i$ se ejecuta sobre los enteros $0,1, \\dots, 100$. Calcule los valores $x_i$ y guárdelos en una lista. Sugerencia: use un ciclo `for` o `while` y agregue cada nuevo valor $x_i$ a una lista, que inicialmente está vacía. Nombre de la función se debe llama `coor1()`."
   ]
  },
  {
   "cell_type": "markdown",
   "metadata": {},
   "source": [
    "* El problema es el mismo que en el inciso anterior, pero ahora queremos que los valores $x_i$ se almacenen en una lista usando una construcción de comprensión de listas. El nombre de la función debe de ser `coor2()`."
   ]
  },
  {
   "cell_type": "code",
   "execution_count": 131,
   "metadata": {},
   "outputs": [],
   "source": [
    "def coorr1(h): \n",
    "    i = 0\n",
    "    count = 0\n",
    "    lista = [] \n",
    "\n",
    "    while i <= 2:\n",
    "        count = i + 1*h\n",
    "        lista.append(count)\n",
    "        i += 0.01\n",
    "    return lista\n",
    "        "
   ]
  },
  {
   "cell_type": "code",
   "execution_count": 132,
   "metadata": {},
   "outputs": [
    {
     "data": {
      "text/plain": [
       "[1,\n",
       " 1.01,\n",
       " 1.02,\n",
       " 1.03,\n",
       " 1.04,\n",
       " 1.05,\n",
       " 1.06,\n",
       " 1.07,\n",
       " 1.08,\n",
       " 1.09,\n",
       " 1.1,\n",
       " 1.1099999999999999,\n",
       " 1.1199999999999999,\n",
       " 1.13,\n",
       " 1.14,\n",
       " 1.15,\n",
       " 1.16,\n",
       " 1.17,\n",
       " 1.18,\n",
       " 1.19,\n",
       " 1.2,\n",
       " 1.21,\n",
       " 1.22,\n",
       " 1.23,\n",
       " 1.24,\n",
       " 1.25,\n",
       " 1.26,\n",
       " 1.27,\n",
       " 1.28,\n",
       " 1.29,\n",
       " 1.3,\n",
       " 1.31,\n",
       " 1.32,\n",
       " 1.33,\n",
       " 1.34,\n",
       " 1.35,\n",
       " 1.36,\n",
       " 1.37,\n",
       " 1.3800000000000001,\n",
       " 1.3900000000000001,\n",
       " 1.4000000000000001,\n",
       " 1.4100000000000001,\n",
       " 1.4200000000000002,\n",
       " 1.4300000000000002,\n",
       " 1.4400000000000002,\n",
       " 1.4500000000000002,\n",
       " 1.4600000000000002,\n",
       " 1.4700000000000002,\n",
       " 1.4800000000000002,\n",
       " 1.4900000000000002,\n",
       " 1.5000000000000002,\n",
       " 1.5100000000000002,\n",
       " 1.5200000000000002,\n",
       " 1.5300000000000002,\n",
       " 1.5400000000000003,\n",
       " 1.5500000000000003,\n",
       " 1.5600000000000003,\n",
       " 1.5700000000000003,\n",
       " 1.5800000000000003,\n",
       " 1.5900000000000003,\n",
       " 1.6000000000000003,\n",
       " 1.6100000000000003,\n",
       " 1.6200000000000003,\n",
       " 1.6300000000000003,\n",
       " 1.6400000000000003,\n",
       " 1.6500000000000004,\n",
       " 1.6600000000000004,\n",
       " 1.6700000000000004,\n",
       " 1.6800000000000004,\n",
       " 1.6900000000000004,\n",
       " 1.7000000000000004,\n",
       " 1.7100000000000004,\n",
       " 1.7200000000000004,\n",
       " 1.7300000000000004,\n",
       " 1.7400000000000004,\n",
       " 1.7500000000000004,\n",
       " 1.7600000000000005,\n",
       " 1.7700000000000005,\n",
       " 1.7800000000000005,\n",
       " 1.7900000000000005,\n",
       " 1.8000000000000005,\n",
       " 1.8100000000000005,\n",
       " 1.8200000000000005,\n",
       " 1.8300000000000005,\n",
       " 1.8400000000000005,\n",
       " 1.8500000000000005,\n",
       " 1.8600000000000005,\n",
       " 1.8700000000000006,\n",
       " 1.8800000000000006,\n",
       " 1.8900000000000006,\n",
       " 1.9000000000000006,\n",
       " 1.9100000000000006,\n",
       " 1.9200000000000006,\n",
       " 1.9300000000000006,\n",
       " 1.9400000000000006,\n",
       " 1.9500000000000006,\n",
       " 1.9600000000000006,\n",
       " 1.9700000000000006,\n",
       " 1.9800000000000006,\n",
       " 1.9900000000000007,\n",
       " 2.000000000000001,\n",
       " 2.0100000000000007,\n",
       " 2.0200000000000005,\n",
       " 2.0300000000000007,\n",
       " 2.040000000000001,\n",
       " 2.0500000000000007,\n",
       " 2.0600000000000005,\n",
       " 2.0700000000000007,\n",
       " 2.080000000000001,\n",
       " 2.0900000000000007,\n",
       " 2.1000000000000005,\n",
       " 2.1100000000000008,\n",
       " 2.120000000000001,\n",
       " 2.130000000000001,\n",
       " 2.1400000000000006,\n",
       " 2.150000000000001,\n",
       " 2.160000000000001,\n",
       " 2.170000000000001,\n",
       " 2.1800000000000006,\n",
       " 2.190000000000001,\n",
       " 2.200000000000001,\n",
       " 2.210000000000001,\n",
       " 2.2200000000000006,\n",
       " 2.230000000000001,\n",
       " 2.240000000000001,\n",
       " 2.250000000000001,\n",
       " 2.2600000000000007,\n",
       " 2.270000000000001,\n",
       " 2.280000000000001,\n",
       " 2.290000000000001,\n",
       " 2.3000000000000007,\n",
       " 2.310000000000001,\n",
       " 2.320000000000001,\n",
       " 2.330000000000001,\n",
       " 2.3400000000000007,\n",
       " 2.350000000000001,\n",
       " 2.360000000000001,\n",
       " 2.370000000000001,\n",
       " 2.380000000000001,\n",
       " 2.390000000000001,\n",
       " 2.4000000000000012,\n",
       " 2.410000000000001,\n",
       " 2.420000000000001,\n",
       " 2.430000000000001,\n",
       " 2.4400000000000013,\n",
       " 2.450000000000001,\n",
       " 2.460000000000001,\n",
       " 2.470000000000001,\n",
       " 2.4800000000000013,\n",
       " 2.490000000000001,\n",
       " 2.500000000000001,\n",
       " 2.510000000000001,\n",
       " 2.5200000000000014,\n",
       " 2.530000000000001,\n",
       " 2.540000000000001,\n",
       " 2.550000000000001,\n",
       " 2.5600000000000014,\n",
       " 2.570000000000001,\n",
       " 2.580000000000001,\n",
       " 2.590000000000001,\n",
       " 2.6000000000000014,\n",
       " 2.610000000000001,\n",
       " 2.620000000000001,\n",
       " 2.6300000000000012,\n",
       " 2.6400000000000015,\n",
       " 2.6500000000000012,\n",
       " 2.660000000000001,\n",
       " 2.6700000000000013,\n",
       " 2.6800000000000015,\n",
       " 2.6900000000000013,\n",
       " 2.700000000000001,\n",
       " 2.7100000000000013,\n",
       " 2.7200000000000015,\n",
       " 2.7300000000000013,\n",
       " 2.740000000000001,\n",
       " 2.7500000000000013,\n",
       " 2.7600000000000016,\n",
       " 2.7700000000000014,\n",
       " 2.780000000000001,\n",
       " 2.7900000000000014,\n",
       " 2.8000000000000016,\n",
       " 2.8100000000000014,\n",
       " 2.820000000000001,\n",
       " 2.8300000000000014,\n",
       " 2.8400000000000016,\n",
       " 2.8500000000000014,\n",
       " 2.860000000000001,\n",
       " 2.8700000000000014,\n",
       " 2.8800000000000017,\n",
       " 2.8900000000000015,\n",
       " 2.9000000000000012,\n",
       " 2.9100000000000015,\n",
       " 2.9200000000000017,\n",
       " 2.9300000000000015,\n",
       " 2.9400000000000013,\n",
       " 2.9500000000000015,\n",
       " 2.9600000000000017,\n",
       " 2.9700000000000015,\n",
       " 2.9800000000000013,\n",
       " 2.9900000000000015]"
      ]
     },
     "execution_count": 132,
     "metadata": {},
     "output_type": "execute_result"
    }
   ],
   "source": [
    "coorr1(1)"
   ]
  },
  {
   "cell_type": "markdown",
   "metadata": {},
   "source": [
    "# 2. Error Absoluto y relativo "
   ]
  },
  {
   "cell_type": "code",
   "execution_count": 60,
   "metadata": {},
   "outputs": [],
   "source": [
    "def my_sin(x, n = 2):\n",
    "    \n",
    "    k = 0\n",
    "    aux = 0\n",
    "    while k < n:\n",
    "        aux = aux + (((-1)**k)*(x**(2*k + 1)))/my_factorial(2*k +1 )\n",
    "        k += 1 \n",
    "    return aux"
   ]
  },
  {
   "cell_type": "code",
   "execution_count": 61,
   "metadata": {},
   "outputs": [
    {
     "ename": "NameError",
     "evalue": "name 'abs_error' is not defined",
     "output_type": "error",
     "traceback": [
      "\u001b[1;31m---------------------------------------------------------------------------\u001b[0m",
      "\u001b[1;31mNameError\u001b[0m                                 Traceback (most recent call last)",
      "\u001b[1;32m<ipython-input-61-6e3715c07f92>\u001b[0m in \u001b[0;36m<module>\u001b[1;34m\u001b[0m\n\u001b[1;32m----> 1\u001b[1;33m \u001b[0mabs_error\u001b[0m\u001b[1;33m(\u001b[0m\u001b[0mnp\u001b[0m\u001b[1;33m.\u001b[0m\u001b[0msin\u001b[0m\u001b[1;33m,\u001b[0m \u001b[0mmy_sin\u001b[0m\u001b[1;33m,\u001b[0m \u001b[0mnp\u001b[0m\u001b[1;33m.\u001b[0m\u001b[0mpi\u001b[0m\u001b[1;33m/\u001b[0m\u001b[1;36m4\u001b[0m\u001b[1;33m)\u001b[0m\u001b[1;33m\u001b[0m\u001b[1;33m\u001b[0m\u001b[0m\n\u001b[0m",
      "\u001b[1;31mNameError\u001b[0m: name 'abs_error' is not defined"
     ]
    }
   ],
   "source": [
    "abs_error(np.sin, my_sin, np.pi/4)"
   ]
  },
  {
   "cell_type": "code",
   "execution_count": 152,
   "metadata": {},
   "outputs": [
    {
     "name": "stdout",
     "output_type": "stream",
     "text": [
      "Y = 0.0 error máximo = 0.8775825618903728\n"
     ]
    }
   ],
   "source": [
    "n = 30\n",
    "x = 0.5\n",
    "h = 1\n",
    "emax = 0\n",
    "for i in range(1,30):\n",
    "    h = 0.25*h\n",
    "    u = (float(np.sin(x + h) - np.sin(x))/float(h))\n",
    "    error = np.fabs((np.cos(x) - u))\n",
    "    if error > emax:\n",
    "        emax = error\n",
    "        imax = i\n",
    "print(\"Y =\",u, \"error máximo =\",emax)"
   ]
  },
  {
   "cell_type": "markdown",
   "metadata": {},
   "source": [
    "# 3. Una función para la derivada numérica."
   ]
  },
  {
   "cell_type": "markdown",
   "metadata": {},
   "source": [
    "# 4. Una función para la integral numérica."
   ]
  },
  {
   "cell_type": "markdown",
   "metadata": {},
   "source": [
    "Una aproximación a la integral de una función $f(x)$ en un intervalo $[a, b]$ se puede encontrar aproximando primero $f(x)$ por la recta que pasa por los puntos finales $(a, f (a))$ y $(b , f (b))$, y luego encontrar el área debajo de la línea recta (que es el área de un trapezoide). La fórmula resultante se convierte en:\n",
    "\n",
    "$$\\displaystyle \\int_{a}^{b} f(x) \\, dx \\approx \\dfrac{b-a}{2}\\left( f(a) + f(b) \\right)$$\n",
    "\n",
    "Escribe una función `integrate(f, a, b)` que devuelva esta aproximación a la integral. El argument `f` es una función de Python `f`  de la función matemática $f(x)$. Calcule las siguientes integrales 􏰒$\\int_{0}^{ln(3)} e^x \\, dx$, $\\int_{0}^{\\pi} \\cos{x} \\, dx$ , $\\int_{0}^{\\pi} \\sin{x} \\, dx$ y $\\int_{0}^{\\frac{\\pi}{2}} \\sin{x} \\, dx$. En el caso de 0000, calcule el el error, es decir, la diferencia entre la integral exacta y la aproximación. Realice una gráfica  para cada integral a fin de comprender cómo se comporta el método en los diferentes casos."
   ]
  },
  {
   "cell_type": "code",
   "execution_count": 63,
   "metadata": {},
   "outputs": [],
   "source": [
    "def integrate(f, a, b):\n",
    "    integral = ((b - a)/2)*(f(a) + f(b))\n",
    "    return integral "
   ]
  },
  {
   "cell_type": "markdown",
   "metadata": {},
   "source": [
    "-------------"
   ]
  },
  {
   "cell_type": "code",
   "execution_count": 70,
   "metadata": {},
   "outputs": [
    {
     "data": {
      "text/plain": [
       "2.1972245773362196"
      ]
     },
     "execution_count": 70,
     "metadata": {},
     "output_type": "execute_result"
    }
   ],
   "source": [
    "my_expf = lambda x: np.exp(x)\n",
    "integrate(my_expf, a = 0, b = np.log(3))"
   ]
  },
  {
   "cell_type": "code",
   "execution_count": 71,
   "metadata": {},
   "outputs": [],
   "source": [
    "def my_exp(a, b):\n",
    "    integral = np.exp(b) - np.exp(a)\n",
    "    return integral "
   ]
  },
  {
   "cell_type": "code",
   "execution_count": null,
   "metadata": {},
   "outputs": [],
   "source": [
    "def trapeciob(f, a, b):\n",
    "    \n",
    "    x = np.linspace(a, b)\n",
    "    m = (f(b) - f(a))/(b - a)\n",
    "    y = lambda x: m*(x - a) + f(a)\n",
    "    \n",
    "    print(f(a), a)    \n",
    "    plt.plot(x, f(x), color = \"r\")\n",
    "    plt.plot(x, y(x), color = \"b\")\n",
    "    plt.plot(x, np.zeros(len(x)), color = \"m\" )\n",
    "    plt.plot((a, a), (0, f(a)), color = \"m\")\n",
    "    plt.plot((b, b), (0, f(b)), color = \"m\")\n",
    "    plt.grid()\n",
    "    plt.show"
   ]
  },
  {
   "cell_type": "markdown",
   "metadata": {},
   "source": [
    "---------------"
   ]
  },
  {
   "cell_type": "code",
   "execution_count": 73,
   "metadata": {},
   "outputs": [
    {
     "data": {
      "text/plain": [
       "0.0"
      ]
     },
     "execution_count": 73,
     "metadata": {},
     "output_type": "execute_result"
    }
   ],
   "source": [
    "my_cosf = lambda x: np.cos(x)\n",
    "integrate (my_cosf, a = 0, b = np.pi)"
   ]
  },
  {
   "cell_type": "code",
   "execution_count": 74,
   "metadata": {},
   "outputs": [],
   "source": [
    "def my_cos(a, b):\n",
    "    integral = np.sin(b) - np.sin(a)\n",
    "    return integral "
   ]
  },
  {
   "cell_type": "code",
   "execution_count": 123,
   "metadata": {},
   "outputs": [],
   "source": [
    "x = np.linspace(0, np.pi, 101)\n",
    "y = np.cos(x)"
   ]
  },
  {
   "cell_type": "code",
   "execution_count": 130,
   "metadata": {},
   "outputs": [
    {
     "ename": "NameError",
     "evalue": "name 'error_abs' is not defined",
     "output_type": "error",
     "traceback": [
      "\u001b[1;31m---------------------------------------------------------------------------\u001b[0m",
      "\u001b[1;31mNameError\u001b[0m                                 Traceback (most recent call last)",
      "\u001b[1;32m<ipython-input-130-cf42a227f6dc>\u001b[0m in \u001b[0;36m<module>\u001b[1;34m\u001b[0m\n\u001b[1;32m----> 1\u001b[1;33m \u001b[0merror_abs\u001b[0m\u001b[1;33m(\u001b[0m\u001b[0mmy_cos\u001b[0m\u001b[1;33m(\u001b[0m\u001b[1;36m0\u001b[0m\u001b[1;33m,\u001b[0m \u001b[0mnp\u001b[0m\u001b[1;33m.\u001b[0m\u001b[0mpi\u001b[0m\u001b[1;33m/\u001b[0m\u001b[1;36m2\u001b[0m\u001b[1;33m)\u001b[0m\u001b[1;33m,\u001b[0m \u001b[0mintegrate\u001b[0m\u001b[1;33m(\u001b[0m\u001b[0mmy_cosf\u001b[0m\u001b[1;33m,\u001b[0m \u001b[0ma\u001b[0m \u001b[1;33m=\u001b[0m\u001b[1;36m0\u001b[0m\u001b[1;33m,\u001b[0m \u001b[0mb\u001b[0m \u001b[1;33m=\u001b[0m \u001b[0mnp\u001b[0m\u001b[1;33m.\u001b[0m\u001b[0mpi\u001b[0m\u001b[1;33m)\u001b[0m\u001b[1;33m)\u001b[0m\u001b[1;33m\u001b[0m\u001b[1;33m\u001b[0m\u001b[0m\n\u001b[0m",
      "\u001b[1;31mNameError\u001b[0m: name 'error_abs' is not defined"
     ]
    }
   ],
   "source": [
    "error_abs(my_cos(0, np.pi/2), integrate(my_cosf, a =0, b = np.pi))"
   ]
  },
  {
   "cell_type": "code",
   "execution_count": 127,
   "metadata": {},
   "outputs": [],
   "source": [
    "def trapecio(f, a, b):\n",
    "    \n",
    "    x = np.linspace(a, b)\n",
    "    m = (f(b) - f(a))/(b - a)\n",
    "    y = lambda x: m*(x - a) + f(a)\n",
    "    \n",
    "    #print(f(a), a)    \n",
    "    plt.plot(x, f(x), color = \"r\")\n",
    "    plt.plot(x, y(x), color = \"b\")\n",
    "    plt.plot(x, np.zeros(len(x)), color = \"m\" )\n",
    "    plt.plot((a, a), (0, f(a)), color = \"m\")\n",
    "    plt.plot((b, b), (0, f(b)), color = \"m\")\n",
    "    plt.grid()\n",
    "    plt.show"
   ]
  },
  {
   "cell_type": "code",
   "execution_count": 128,
   "metadata": {},
   "outputs": [
    {
     "data": {
      "image/png": "[encoded data removed]",
      "text/plain": [
       "<Figure size 432x288 with 1 Axes>"
      ]
     },
     "metadata": {
      "needs_background": "light"
     },
     "output_type": "display_data"
    }
   ],
   "source": [
    "trapecio(np.cos, 0, np.pi/4)"
   ]
  },
  {
   "cell_type": "markdown",
   "metadata": {},
   "source": [
    "-------------------\n",
    "    "
   ]
  },
  {
   "cell_type": "code",
   "execution_count": 75,
   "metadata": {},
   "outputs": [
    {
     "data": {
      "text/plain": [
       "1.9236706937217898e-16"
      ]
     },
     "execution_count": 75,
     "metadata": {},
     "output_type": "execute_result"
    }
   ],
   "source": [
    "my_sinf = lambda x: np.sin(x)\n",
    "integrate (my_sinf, a = 0, b = np.pi)"
   ]
  },
  {
   "cell_type": "code",
   "execution_count": 76,
   "metadata": {},
   "outputs": [],
   "source": [
    "def my_sin(a, b):\n",
    "    integral = np.cos(b) - np.cos(a)\n",
    "    return integral"
   ]
  },
  {
   "cell_type": "markdown",
   "metadata": {},
   "source": [
    "---------------"
   ]
  },
  {
   "cell_type": "code",
   "execution_count": 77,
   "metadata": {},
   "outputs": [
    {
     "data": {
      "text/plain": [
       "0.7853981633974483"
      ]
     },
     "execution_count": 77,
     "metadata": {},
     "output_type": "execute_result"
    }
   ],
   "source": [
    "my_sinb = lambda x: np.sin(x)\n",
    "integrate (my_sinb, a = 0, b = np.pi/2)"
   ]
  },
  {
   "cell_type": "code",
   "execution_count": 78,
   "metadata": {},
   "outputs": [],
   "source": [
    "def my_sinb(a, b):\n",
    "    integral = np.cos(b) - np.cos(a)\n",
    "    return integral"
   ]
  },
  {
   "cell_type": "markdown",
   "metadata": {},
   "source": [
    "# 5. ¿Es primo? usando recursión\n",
    "\n",
    "Implemte mediante recursión una función cuyo nombre sea `is_prime()` que regrese `True` si el número es primo o `False` si el número no es primo."
   ]
  },
  {
   "cell_type": "code",
   "execution_count": 35,
   "metadata": {},
   "outputs": [],
   "source": [
    "def is_prime(n, count=2):\n",
    "    if n == count: \n",
    "        return True\n",
    "    elif n%count == 0:\n",
    "        return False \n",
    "    else:\n",
    "        return is_prime(n, count+1)\n",
    "    "
   ]
  },
  {
   "cell_type": "code",
   "execution_count": 38,
   "metadata": {},
   "outputs": [
    {
     "name": "stdout",
     "output_type": "stream",
     "text": [
      "False\n"
     ]
    }
   ],
   "source": [
    "print(is_prime(9))"
   ]
  }
 ],
 "metadata": {
  "kernelspec": {
   "display_name": "Python 3",
   "language": "python",
   "name": "python3"
  },
  "language_info": {
   "codemirror_mode": {
    "name": "ipython",
    "version": 3
   },
   "file_extension": ".py",
   "mimetype": "text/x-python",
   "name": "python",
   "nbconvert_exporter": "python",
   "pygments_lexer": "ipython3",
   "version": "3.8.3"
  }
 },
 "nbformat": 4,
 "nbformat_minor": 4
}
