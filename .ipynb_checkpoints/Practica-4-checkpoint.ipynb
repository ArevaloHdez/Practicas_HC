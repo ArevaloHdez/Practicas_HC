{
 "cells": [
  {
   "cell_type": "markdown",
   "metadata": {},
   "source": [
    " # Autor\n",
    " \n",
    "Nombre: Ricardo Arévalo Hernández\n",
    "\n",
    "GitHub: Arévalo Hedez\n",
    "\n",
    "-----------"
   ]
  },
  {
   "cell_type": "markdown",
   "metadata": {},
   "source": [
    "# Descripción del ejercicio "
   ]
  },
  {
   "cell_type": "markdown",
   "metadata": {},
   "source": [
    "El objetivo de este ejercicio es utilizar un diccionario como una forma simple de caché de datos.\n",
    "\n",
    "Calcular el factorial para un número muy grande puede llevar algún tiempo. Por ejemplo, calcular el factorial de $150 000$ puede llevar varios segundos. Podemos verificar esto usando un temporizador.\n",
    "\n",
    "El siguiente programa ejecuta varios cálculos factoriales en números grandes e imprime el tiempo necesario para cada uno:"
   ]
  },
  {
   "cell_type": "code",
   "execution_count": 3,
   "metadata": {},
   "outputs": [],
   "source": [
    "from timeit import default_timer"
   ]
  },
  {
   "cell_type": "code",
   "execution_count": 4,
   "metadata": {},
   "outputs": [],
   "source": [
    "def timer(func):\n",
    "    \n",
    "    def inner(value):\n",
    "        print('calling ', func.__name__, 'with', value)\n",
    "        start = default_timer()\n",
    "        func(value)\n",
    "        end = default_timer()\n",
    "        print('returned from ', func.__name__, 'it took', int(end - start), 'seconds')\n",
    "    \n",
    "    return inner\n"
   ]
  },
  {
   "cell_type": "markdown",
   "metadata": {},
   "source": [
    "## Función factorial "
   ]
  },
  {
   "cell_type": "code",
   "execution_count": 5,
   "metadata": {},
   "outputs": [],
   "source": [
    "@timer\n",
    "def factorial(num):\n",
    "    if num == 0: \n",
    "        return 1\n",
    "    \n",
    "    else:\n",
    "        factorial_value = 1\n",
    "\n",
    "        for i in range(1, num + 1):\n",
    "            factorial_value = factorial_value * i \n",
    "        return factorial_value\n"
   ]
  },
  {
   "cell_type": "markdown",
   "metadata": {},
   "source": [
    "## Prueba con $80000$"
   ]
  },
  {
   "cell_type": "code",
   "execution_count": 6,
   "metadata": {},
   "outputs": [
    {
     "name": "stdout",
     "output_type": "stream",
     "text": [
      "calling  factorial with 80000\n",
      "returned from  factorial it took 3 seconds\n",
      "None\n"
     ]
    }
   ],
   "source": [
    "print(factorial(80000))"
   ]
  },
  {
   "cell_type": "markdown",
   "metadata": {},
   "source": [
    "## Prueba con $120000$"
   ]
  },
  {
   "cell_type": "code",
   "execution_count": 42,
   "metadata": {},
   "outputs": [
    {
     "name": "stdout",
     "output_type": "stream",
     "text": [
      "calling  factorial with 120000\n",
      "returned from  factorial it took 8 seconds\n",
      "None\n"
     ]
    }
   ],
   "source": [
    "print(factorial(120000))"
   ]
  },
  {
   "cell_type": "markdown",
   "metadata": {},
   "source": [
    "## Prueba con $150000$"
   ]
  },
  {
   "cell_type": "code",
   "execution_count": 8,
   "metadata": {},
   "outputs": [
    {
     "name": "stdout",
     "output_type": "stream",
     "text": [
      "calling  factorial with 150000\n",
      "returned from  factorial it took 12 seconds\n",
      "None\n"
     ]
    }
   ],
   "source": [
    "print(factorial(150000))"
   ]
  },
  {
   "cell_type": "markdown",
   "metadata": {},
   "source": [
    "Como puede verse a partir de esto, en esta ejecución en particular, calcular el factorial de $150 000$ tomó 9 s, mientras que el factorial de $80 000$ tomó 2 s, etc.\n",
    "\n",
    "En este caso particular, hemos decidido volver a ejecutar estos cálculos para que realmente hayamos calculado el factorial de $150 000$, $80 000$ y $120 000$ al menos dos veces."
   ]
  },
  {
   "cell_type": "code",
   "execution_count": 64,
   "metadata": {},
   "outputs": [
    {
     "name": "stdout",
     "output_type": "stream",
     "text": [
      "calling  factorial with 80000\n",
      "returned from  factorial it took 3 seconds\n",
      "None\n"
     ]
    }
   ],
   "source": [
    "print(factorial(80000))"
   ]
  },
  {
   "cell_type": "code",
   "execution_count": 76,
   "metadata": {},
   "outputs": [
    {
     "name": "stdout",
     "output_type": "stream",
     "text": [
      "calling  factorial with 120000\n",
      "returned from  factorial it took 7 seconds\n",
      "None\n"
     ]
    }
   ],
   "source": [
    "print(factorial(120000))"
   ]
  },
  {
   "cell_type": "code",
   "execution_count": 61,
   "metadata": {},
   "outputs": [
    {
     "name": "stdout",
     "output_type": "stream",
     "text": [
      "calling  factorial with 150000\n",
      "returned from  factorial it took 11 seconds\n",
      "None\n"
     ]
    }
   ],
   "source": [
    "print(factorial(150000))"
   ]
  },
  {
   "cell_type": "markdown",
   "metadata": {},
   "source": [
    "La idea de un caché es que se puede usar para guardar cálculos anteriores y reutilizarlos si es apropiado en lugar de tener que realizar el mismo cálculo varias veces. El uso de una caché puede mejorar en gran medida el rendimiento de los sistemas en los que se producen estos cálculos repetidos.\n",
    "\n",
    "Hay muchas bibliotecas comerciales de almacenamiento en caché disponibles para una amplia variedad de lenguajes, incluido Python. Sin embargo, en su esencia, todos son algo así como un diccionario; es decir, hay una llave `key` que suele ser una combinación de la operación invocada y los valores `values` de los parámetros utilizados. A su vez, el elemento de valor `value` es el resultado del cálculo.\n",
    "\n",
    "Estos cachés también suelen tener políticas de desalojo para que no se vuelvan demasiado grandes; Por lo general, estas políticas de desalojo se pueden especificar para que coincidan con la forma en que se utiliza la caché. Una política de desalojo común es la política de uso menos reciente. Cuando se utiliza esta política, una vez que el tamaño de la caché alcanza un límite predeterminado, se elimina el valor de uso menos reciente, etc.\n",
    "\n",
    "Para este ejercicio, debe implementar un mecanismo de almacenamiento en caché simple utilizando un diccionario (pero sin una política de desalojo).\n",
    "\n",
    "La caché debe usar el parámetro pasado a la función `factorial()` como clave y devolver el valor almacenado si hay uno presente.\n",
    "\n",
    "\n",
    "La lógica para esto suele ser:\n",
    "\n",
    "\n",
    "* Revise en la caché para ver si la clave está presente \n",
    "* Si está, devuelva el valor\n",
    "* Si no realiza el cálculo\n",
    "* Almacene el resultado calculado para uso futuro\n",
    "* Devuelve el valor\n",
    "\n",
    "\n",
    "Tenga en cuenta que la función `factorial()` es exactamente una función; Deberá pensar en usar una variable global para mantener el caché.\n",
    "\n",
    "Una vez que se usa la caché con la función `factorial()`, cada invocación posterior de la función que usa un valor anterior debería regresar casi de inmediato. Esto se muestra en la salida de muestra anterior, donde las llamadas de método posteriores regresan en menos de un segundo"
   ]
  },
  {
   "cell_type": "markdown",
   "metadata": {},
   "source": [
    "# Implementación del ejercicio "
   ]
  },
  {
   "cell_type": "markdown",
   "metadata": {},
   "source": [
    "* ***Del notebook `Functions.ipybn` o en el siguiente [enlace](https://www.w3schools.com/python/gloss_python_global_variables.asp) investigue que es una variable global y describalo a continuación (1 punto)*** "
   ]
  },
  {
   "cell_type": "markdown",
   "metadata": {},
   "source": [
    "Las variables globales existen en todo el programa.\n",
    "\n",
    "Cuando nosotros creamos una variable dentro de la función, la variable es local y solo podremos usarla dentro de la función.\n",
    "Pero cuando creamos una variable global podemos usarla en todo nuestro Notebook.  \n"
   ]
  },
  {
   "cell_type": "markdown",
   "metadata": {},
   "source": [
    "### Ejemplo 1\n",
    "\n",
    "En este ejemplo `r` es una variable local de la función `my_factorial`\n",
    "\n",
    "Si tratamos de imprimirlo no podremos. "
   ]
  },
  {
   "cell_type": "code",
   "execution_count": 55,
   "metadata": {},
   "outputs": [
    {
     "name": "stdin",
     "output_type": "stream",
     "text": [
      "> Ingrese el número a calcular 14\n"
     ]
    },
    {
     "name": "stdout",
     "output_type": "stream",
     "text": [
      "El factorial es 87178291200\n"
     ]
    }
   ],
   "source": [
    "def my_factorial():\n",
    "    \n",
    "    x = int(input(\"> Ingrese el número a calcular\")) \n",
    "    r = 1\n",
    "    \n",
    "    for i in range (x):\n",
    "        r = r * x\n",
    "        x =  x - 1 \n",
    "        \n",
    "    print(\"El factorial es\", r)\n",
    "\n",
    "\"\"\"\"La función calcula el factorial de un número cualquiera\"\"\"\n",
    "    \n",
    "my_factorial()"
   ]
  },
  {
   "cell_type": "code",
   "execution_count": 14,
   "metadata": {},
   "outputs": [
    {
     "ename": "NameError",
     "evalue": "name 'r' is not defined",
     "output_type": "error",
     "traceback": [
      "\u001b[1;31m---------------------------------------------------------------------------\u001b[0m",
      "\u001b[1;31mNameError\u001b[0m                                 Traceback (most recent call last)",
      "\u001b[1;32m<ipython-input-14-c6b8a6a9416b>\u001b[0m in \u001b[0;36m<module>\u001b[1;34m\u001b[0m\n\u001b[1;32m----> 1\u001b[1;33m \u001b[0mprint\u001b[0m\u001b[1;33m(\u001b[0m\u001b[0mr\u001b[0m\u001b[1;33m)\u001b[0m\u001b[1;33m\u001b[0m\u001b[1;33m\u001b[0m\u001b[0m\n\u001b[0m",
      "\u001b[1;31mNameError\u001b[0m: name 'r' is not defined"
     ]
    }
   ],
   "source": [
    "print(r)"
   ]
  },
  {
   "cell_type": "markdown",
   "metadata": {},
   "source": [
    "Nos dice que no está definida, pero sí que se encuentra definida, lo que pasa es que tratamos de alcanzar una variable local que solo funciona \n",
    "dentro de la misma función. "
   ]
  },
  {
   "cell_type": "markdown",
   "metadata": {},
   "source": [
    "### Ejemplo 2\n",
    "\n",
    "Si quisieramos acceder a la variable `r`, ésta debe de ser una variable global. Para ello la tenenos que definir como una varible global dentro de la función.\n",
    "\n",
    "A `r` la llamaremos ahora `j`"
   ]
  },
  {
   "cell_type": "code",
   "execution_count": 16,
   "metadata": {},
   "outputs": [
    {
     "name": "stdin",
     "output_type": "stream",
     "text": [
      "> Ingrese el número a calcular 14\n"
     ]
    },
    {
     "name": "stdout",
     "output_type": "stream",
     "text": [
      "El factorial es 87178291200\n"
     ]
    }
   ],
   "source": [
    "def my_factorial():\n",
    "    x = int(input(\"> Ingrese el número a calcular\"))\n",
    "    global j\n",
    "    j = 1\n",
    "    \n",
    "    for i in range (x):\n",
    "        j = j * x\n",
    "        x =  x - 1 \n",
    "        \n",
    "    print(\"El factorial es\", j)\n",
    "    \n",
    "\"\"\"\"La función calcula el factorial de un número cualquiera\"\"\"\n",
    "    \n",
    "my_factorial()"
   ]
  },
  {
   "cell_type": "code",
   "execution_count": 17,
   "metadata": {},
   "outputs": [
    {
     "name": "stdout",
     "output_type": "stream",
     "text": [
      "87178291200\n"
     ]
    }
   ],
   "source": [
    "print(j)"
   ]
  },
  {
   "cell_type": "markdown",
   "metadata": {},
   "source": [
    "* ***En la siguiente celda se define un diccionario que se llama `factorials`, con las siguientes llaves y valores, `0:1`,`5:120` y `10:3628800` observe que la llave es el número al que le deseamos calcular el factorial y el valor es el factorial del número. Ejecute la celda y argumente por qué es una variable global (1 punto)***"
   ]
  },
  {
   "cell_type": "code",
   "execution_count": 18,
   "metadata": {},
   "outputs": [],
   "source": [
    "factorials = {0:1, 5:120, 10:3628800}"
   ]
  },
  {
   "cell_type": "code",
   "execution_count": 19,
   "metadata": {},
   "outputs": [
    {
     "data": {
      "text/plain": [
       "3628800"
      ]
     },
     "execution_count": 19,
     "metadata": {},
     "output_type": "execute_result"
    }
   ],
   "source": [
    "factorials[10]"
   ]
  },
  {
   "cell_type": "markdown",
   "metadata": {},
   "source": [
    "* ***Implemente una función que se llame `check_factorial(n)`, donde `n` es un numero natural. La función debe de revisar si el número $n$ está en el diccinario `factorials` y si lo está debe de regresar una tupla con $n$ y el factorial de $n$, de lo contrario si $n$ no está en el diccionario debe de regresar en una tupla el número previo a $n$ que si esté en el diccionario y su factorial (3 puntos)***"
   ]
  },
  {
   "cell_type": "code",
   "execution_count": 20,
   "metadata": {},
   "outputs": [],
   "source": [
    "def check_factorial(n, factors):\n",
    "    if n in factors:\n",
    "        return n, factors[n]\n",
    "    else:\n",
    "        aux = 0\n",
    "            \n",
    "        for i in factors:\n",
    "                if i > n : \n",
    "                    return aux, factors[aux] \n",
    "                aux = i\n",
    "        return aux, factors[aux]\n",
    "   "
   ]
  },
  {
   "cell_type": "code",
   "execution_count": 21,
   "metadata": {},
   "outputs": [
    {
     "name": "stdout",
     "output_type": "stream",
     "text": [
      "10\n",
      "3628800\n"
     ]
    }
   ],
   "source": [
    "n, facn = check_factorial(15, factorials)\n",
    "print(n)\n",
    "print(facn)\n"
   ]
  },
  {
   "cell_type": "markdown",
   "metadata": {},
   "source": [
    "* ***Si su implementación es correcta debe aparecer lo siguiente:***\n",
    "\n",
    "```python\n",
    "check_factorial(0,factorials)\n",
    "(0, 1)\n",
    "\n",
    "check_factorial(2,factorials)\n",
    "(0, 1)\n",
    "\n",
    "check_factorial(5,factorials)\n",
    "(5, 120)\n",
    "\n",
    "check_factorial(8,factorials)\n",
    "(5, 120)\n",
    "\n",
    "check_factorial(10,factorials)\n",
    "(10, 3628800)\n",
    "\n",
    "check_factorial(15,factorials)\n",
    "(10, 3628800)\n",
    "```"
   ]
  },
  {
   "cell_type": "code",
   "execution_count": 22,
   "metadata": {},
   "outputs": [
    {
     "name": "stdout",
     "output_type": "stream",
     "text": [
      "{0: 1, 5: 120, 10: 3628800}\n"
     ]
    }
   ],
   "source": [
    "print(factorials)"
   ]
  },
  {
   "cell_type": "code",
   "execution_count": 23,
   "metadata": {},
   "outputs": [
    {
     "data": {
      "text/plain": [
       "(0, 1)"
      ]
     },
     "execution_count": 23,
     "metadata": {},
     "output_type": "execute_result"
    }
   ],
   "source": [
    "check_factorial(0, factorials)"
   ]
  },
  {
   "cell_type": "code",
   "execution_count": 24,
   "metadata": {},
   "outputs": [
    {
     "data": {
      "text/plain": [
       "(0, 1)"
      ]
     },
     "execution_count": 24,
     "metadata": {},
     "output_type": "execute_result"
    }
   ],
   "source": [
    "check_factorial(2, factorials)"
   ]
  },
  {
   "cell_type": "code",
   "execution_count": 25,
   "metadata": {},
   "outputs": [
    {
     "data": {
      "text/plain": [
       "(5, 120)"
      ]
     },
     "execution_count": 25,
     "metadata": {},
     "output_type": "execute_result"
    }
   ],
   "source": [
    "check_factorial(5, factorials)"
   ]
  },
  {
   "cell_type": "code",
   "execution_count": 26,
   "metadata": {},
   "outputs": [
    {
     "data": {
      "text/plain": [
       "(5, 120)"
      ]
     },
     "execution_count": 26,
     "metadata": {},
     "output_type": "execute_result"
    }
   ],
   "source": [
    "check_factorial(8, factorials)"
   ]
  },
  {
   "cell_type": "code",
   "execution_count": 27,
   "metadata": {},
   "outputs": [
    {
     "data": {
      "text/plain": [
       "(10, 3628800)"
      ]
     },
     "execution_count": 27,
     "metadata": {},
     "output_type": "execute_result"
    }
   ],
   "source": [
    "check_factorial(10, factorials)"
   ]
  },
  {
   "cell_type": "code",
   "execution_count": 28,
   "metadata": {},
   "outputs": [
    {
     "data": {
      "text/plain": [
       "(10, 3628800)"
      ]
     },
     "execution_count": 28,
     "metadata": {},
     "output_type": "execute_result"
    }
   ],
   "source": [
    "check_factorial(15, factorials)"
   ]
  },
  {
   "cell_type": "markdown",
   "metadata": {},
   "source": [
    "* ***Modifique la función [Función factorial](#Función-factorial) cuyo nombre es `factorial(n)` para que está tome como argumentos `n` el número al que se desea calcular. Use la función `check_factorial(n, factors)`,dentro de `factorial(n)`, para obtener factorial de algún numero previo y a partir de este calcule el factotial del `n` (5 puntos)***"
   ]
  },
  {
   "cell_type": "markdown",
   "metadata": {},
   "source": [
    "* ***Ejemplo. Supogamos que en `factorials` ya tiene almacenado el factorial de $80000$, y usted desea calcular el factorial de $120000$, entonces la función `factorial` debe se usar el factorial de $80000$ que se encuentra en el diccionario `factorials` para calular el factorial de $120000$***"
   ]
  },
  {
   "cell_type": "code",
   "execution_count": 81,
   "metadata": {},
   "outputs": [],
   "source": [
    "@timer\n",
    "def factorial(num):\n",
    "    n, factorial_value = check_factorial(8, factorials)\n",
    "    if num == n: \n",
    "        return factorial_value\n",
    "    \n",
    "    else:\n",
    "\n",
    "        for i in range(n, num + 1):\n",
    "            factorial_value = factorial_value * i \n",
    "        return factorial_value"
   ]
  },
  {
   "cell_type": "markdown",
   "metadata": {},
   "source": [
    "* ***Ejecute la siguientes celdas y observe que el resultado debe de ser el siguiente:**\n",
    "\n",
    "```python\n",
    "print(factorial(10))\n",
    "calling  factorial with 10\n",
    "returned from  factorial it took 0 seconds\n",
    "None\n",
    "\n",
    "print(factorial(80000))\n",
    "calling  factorial with 80000\n",
    "returned from  factorial it took 2 seconds\n",
    "None\n",
    "\n",
    "print(factorial(120000))\n",
    "calling  factorial with 120000\n",
    "returned from  factorial it took 3 seconds\n",
    "None\n",
    "```"
   ]
  },
  {
   "cell_type": "code",
   "execution_count": 82,
   "metadata": {},
   "outputs": [
    {
     "name": "stdout",
     "output_type": "stream",
     "text": [
      "calling  factorial with 10\n",
      "returned from  factorial it took 0 seconds\n",
      "None\n"
     ]
    }
   ],
   "source": [
    "print(factorial(10))"
   ]
  },
  {
   "cell_type": "code",
   "execution_count": 84,
   "metadata": {},
   "outputs": [
    {
     "name": "stdout",
     "output_type": "stream",
     "text": [
      "calling  factorial with 80000\n",
      "returned from  factorial it took 3 seconds\n",
      "None\n"
     ]
    }
   ],
   "source": [
    "print(factorial(80000))"
   ]
  },
  {
   "cell_type": "code",
   "execution_count": 71,
   "metadata": {},
   "outputs": [
    {
     "name": "stdout",
     "output_type": "stream",
     "text": [
      "calling  factorial with 120000\n",
      "returned from  factorial it took 6 seconds\n",
      "None\n"
     ]
    }
   ],
   "source": [
    "print(factorial(120000))"
   ]
  },
  {
   "cell_type": "markdown",
   "metadata": {},
   "source": [
    "* ***Observe que los tiempo de ejecución son menores que el caso anterior, explíque porque (1 punto)***"
   ]
  },
  {
   "cell_type": "markdown",
   "metadata": {},
   "source": [
    "Esto puede cambiar de una computadora a otra o de las acciones que se estén llevando a cabo como: \n",
    "el algoritmo usado, la velocidad del procesador, sistema operativo, entre otras muchas razones. \n",
    "Me parece que se debe a que al volver a check_factorial la respuesta es más rápido de encontrar.\n"
   ]
  }
 ],
 "metadata": {
  "kernelspec": {
   "display_name": "Python 3",
   "language": "python",
   "name": "python3"
  },
  "language_info": {
   "codemirror_mode": {
    "name": "ipython",
    "version": 3
   },
   "file_extension": ".py",
   "mimetype": "text/x-python",
   "name": "python",
   "nbconvert_exporter": "python",
   "pygments_lexer": "ipython3",
   "version": "3.8.3"
  }
 },
 "nbformat": 4,
 "nbformat_minor": 4
}
